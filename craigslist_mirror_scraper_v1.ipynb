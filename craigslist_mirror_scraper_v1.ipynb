{
 "cells": [
  {
   "cell_type": "markdown",
   "metadata": {},
   "source": [
    "#### Install packages"
   ]
  },
  {
   "cell_type": "code",
   "execution_count": 2,
   "metadata": {},
   "outputs": [],
   "source": [
    "from selenium import webdriver\n",
    "\n",
    "# pip install pandas in command line\n",
    "import pandas as pd\n",
    "\n",
    "# import packages to set wait time for page to load before running Selenium code\n",
    "from selenium.webdriver.support import expected_conditions as EC\n",
    "from selenium.webdriver.common.by import By\n",
    "from selenium.webdriver.support.ui import WebDriverWait\n",
    "import time \n",
    "from selenium.webdriver.common.keys import Keys\n",
    "from selenium.webdriver import ActionChains\n",
    "\n",
    "# packages to download images\n",
    "import urllib\n",
    "import urllib.request\n",
    "\n",
    "# regex\n",
    "import re\n",
    "\n",
    "# sorting\n",
    "import string"
   ]
  },
  {
   "cell_type": "markdown",
   "metadata": {},
   "source": [
    "#### Get urls for all regions"
   ]
  },
  {
   "cell_type": "code",
   "execution_count": 3,
   "metadata": {},
   "outputs": [],
   "source": [
    "# set webdriver to Chrome\n",
    "driver = webdriver.Chrome()\n",
    "\n",
    "# website start URL\n",
    "driver.get(\"https://www.craigslist.org/about/sites\")\n",
    "\n",
    "# pull all a tags with href attribute \n",
    "regions = driver.find_elements_by_xpath('//a[@href]')\n",
    "\n",
    "# append hrefs without www in url to regions_list\n",
    "regions_list = []\n",
    "for region in regions:\n",
    "    href = region.get_attribute('href')\n",
    "    if bool(re.search('www', href)) == True:\n",
    "        pass\n",
    "    \n",
    "    elif bool(re.search('https', href)) == False:\n",
    "        pass\n",
    "    \n",
    "    elif bool(re.search('forum', href)) == True:\n",
    "        pass\n",
    "    \n",
    "    else:\n",
    "        regions_list.append(href)\n",
    "\n",
    "# close webdriver\n",
    "driver.close()"
   ]
  },
  {
   "cell_type": "code",
   "execution_count": 4,
   "metadata": {},
   "outputs": [],
   "source": [
    "# append query with by owner, mirror search, in furniture to each region url\n",
    "regions_list_search = [i + \"search/fuo?query=mirror&sort=rel\" for i in regions_list]"
   ]
  },
  {
   "cell_type": "markdown",
   "metadata": {},
   "source": [
    "#### Get urls for all posts"
   ]
  },
  {
   "cell_type": "code",
   "execution_count": null,
   "metadata": {},
   "outputs": [],
   "source": [
    "# set webdriver to Chrome\n",
    "driver = webdriver.Chrome()\n",
    "\n",
    "count = 0\n",
    "post_list = []\n",
    "for i in regions_list_search:\n",
    "\n",
    "    # get first region query\n",
    "    driver.get(i)\n",
    "    \n",
    "    # look for seach bar to enter return\n",
    "    try:\n",
    "        element = WebDriverWait(driver, 10).until(\n",
    "            EC.presence_of_element_located((By.XPATH, '//*[@id=\"query\"]')))\n",
    "    except: \n",
    "        pass\n",
    "    \n",
    "    # enter return on search bar \n",
    "    try:\n",
    "        driver.find_element_by_xpath('//*[@id=\"query\"]').send_keys(Keys.RETURN)\n",
    "    except:\n",
    "        pass\n",
    "    \n",
    "    try:\n",
    "        # pull all a tags with href attribute \n",
    "        posts = driver.find_elements_by_xpath('//a[@href]')\n",
    "        \n",
    "        # append hrefs to post_list\n",
    "        time.sleep(.5)\n",
    "        for post in posts:\n",
    "            href = post.get_attribute('href')\n",
    "            post_list.append(href)\n",
    "    \n",
    "    except:\n",
    "        pass\n",
    "\n",
    "#close webdriver \n",
    "driver.close()\n",
    "\n",
    "# eliminate duplicates and sort urls from each region\n",
    "post_list_set = sorted(set(post_list))"
   ]
  },
  {
   "cell_type": "code",
   "execution_count": null,
   "metadata": {},
   "outputs": [],
   "source": [
    "# # store first list - hashed out as name needs to be altered or it will save over existing file\n",
    "# post_series = pd.Series(post_list_set)\n",
    "# post_series.to_csv('post_list.csv')\n"
   ]
  },
  {
   "cell_type": "markdown",
   "metadata": {},
   "source": [
    "#### Filter out urls that aren't for individual listings"
   ]
  },
  {
   "cell_type": "code",
   "execution_count": null,
   "metadata": {},
   "outputs": [],
   "source": [
    "post_list_filtered = []\n",
    "for i in post_list_set:\n",
    "    \n",
    "    # eliminate urls with \"www\" and \"search\"\n",
    "    if bool(re.search(('www | search'), i)) == True:\n",
    "        pass\n",
    "\n",
    "    # eliminate urls not in furniture section\n",
    "    elif bool(re.search(('fuo'), i)) == False:\n",
    "        pass\n",
    "\n",
    "    # eliminate urls that aren't html page\n",
    "    elif bool(re.search('html', i)) == False:\n",
    "        pass\n",
    "\n",
    "    else:\n",
    "        post_list_filtered.append(i)"
   ]
  },
  {
   "cell_type": "code",
   "execution_count": null,
   "metadata": {},
   "outputs": [],
   "source": [
    "# number of listings\n",
    "len(post_list_filtered)"
   ]
  },
  {
   "cell_type": "markdown",
   "metadata": {},
   "source": [
    "#### Pull images from each listing url"
   ]
  },
  {
   "cell_type": "code",
   "execution_count": null,
   "metadata": {},
   "outputs": [],
   "source": [
    "# set webdriver to Chrome\n",
    "driver = webdriver.Chrome()\n",
    "\n",
    "for i in post_list_filtered:\n",
    "    \n",
    "    # get region\n",
    "    region = re.split('//|\\.', i)[1]\n",
    "    \n",
    "    # website start URL for first url in regions_list\n",
    "    driver.get(i)\n",
    "    \n",
    "    # look for post_id number\n",
    "    try:\n",
    "        element = WebDriverWait(driver, 10).until(\n",
    "            EC.presence_of_element_located((By.XPATH, '/html/body/section/section/section/div[2]/p[1]')))\n",
    "    except: \n",
    "        pass\n",
    "    \n",
    "    # get post id number\n",
    "    post_id = driver.find_element_by_xpath('/html/body/section/section/section/div[2]/p[1]')\n",
    "    post_id_num = re.split(': ', post_id.text)[1]\n",
    "    \n",
    "    \n",
    "    try:\n",
    "        # find all img tags\n",
    "        images = driver.find_elements_by_tag_name('img')\n",
    "\n",
    "        # download 600x450 jpgs, convert 50x50c jps to 600x450, eliminate dups, download all\n",
    "        image_num = 0\n",
    "        srcs = []\n",
    "        for image in images:\n",
    "\n",
    "            image_num+=1\n",
    "\n",
    "            src = image.get_attribute('src')\n",
    "\n",
    "            if bool(re.search('600x450', src)) == True:\n",
    "                if str(src) in srcs:\n",
    "                    pass\n",
    "\n",
    "                else:\n",
    "                    data = urllib.request.urlretrieve(src, region + \"_\" + post_id_num + \"_\" + str(image_num) + '.jpg')\n",
    "                    srcs.append(src)\n",
    "\n",
    "\n",
    "            elif bool(re.search('images\\.', src)) == True:\n",
    "                src2 = re.sub(\"50x50c\", \"600x450\", src)\n",
    "\n",
    "                if str(src2) in srcs:\n",
    "                    pass\n",
    "\n",
    "                else:\n",
    "                    data = urllib.request.urlretrieve(src2, region + \"_\" + post_id_num + \"_\" + str(image_num) + '.jpg')\n",
    "\n",
    "            else:\n",
    "                pass\n",
    "            \n",
    "    except:\n",
    "        pass\n",
    "\n",
    "#close webdriver \n",
    "driver.close()"
   ]
  },
  {
   "cell_type": "code",
   "execution_count": null,
   "metadata": {},
   "outputs": [],
   "source": []
  }
 ],
 "metadata": {
  "kernelspec": {
   "display_name": "Python 3",
   "language": "python",
   "name": "python3"
  },
  "language_info": {
   "codemirror_mode": {
    "name": "ipython",
    "version": 3
   },
   "file_extension": ".py",
   "mimetype": "text/x-python",
   "name": "python",
   "nbconvert_exporter": "python",
   "pygments_lexer": "ipython3",
   "version": "3.7.4"
  }
 },
 "nbformat": 4,
 "nbformat_minor": 2
}
