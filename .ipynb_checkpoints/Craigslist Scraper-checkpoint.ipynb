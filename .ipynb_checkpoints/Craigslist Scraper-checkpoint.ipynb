{
 "cells": [
  {
   "cell_type": "markdown",
   "metadata": {},
   "source": [
    "### Craiglist scraper"
   ]
  },
  {
   "cell_type": "markdown",
   "metadata": {},
   "source": [
    "#### Download webdriver here: \n",
    "#### https://sites.google.com/a/chromium.org/chromedriver/downloads\n",
    "\n",
    "#### Move chromedriver to local bin:\n",
    "#### - Open up a new Finder window (the file browsing thing)\n",
    "#### - From the top menu select Go > Go to Folder…\n",
    "#### - Type /usr/local/bin and click Go\n",
    "#### - Copy the chromedriver file to this folder."
   ]
  },
  {
   "cell_type": "markdown",
   "metadata": {},
   "source": [
    "### Install packages"
   ]
  },
  {
   "cell_type": "code",
   "execution_count": 1,
   "metadata": {},
   "outputs": [
    {
     "ename": "ModuleNotFoundError",
     "evalue": "No module named 'selenium'",
     "output_type": "error",
     "traceback": [
      "\u001b[0;31m---------------------------------------------------------------------------\u001b[0m",
      "\u001b[0;31mModuleNotFoundError\u001b[0m                       Traceback (most recent call last)",
      "\u001b[0;32m<ipython-input-1-6638d7e491dd>\u001b[0m in \u001b[0;36m<module>\u001b[0;34m\u001b[0m\n\u001b[0;32m----> 1\u001b[0;31m \u001b[0;32mfrom\u001b[0m \u001b[0mselenium\u001b[0m \u001b[0;32mimport\u001b[0m \u001b[0mwebdriver\u001b[0m\u001b[0;34m\u001b[0m\u001b[0;34m\u001b[0m\u001b[0m\n\u001b[0m\u001b[1;32m      2\u001b[0m \u001b[0;34m\u001b[0m\u001b[0m\n\u001b[1;32m      3\u001b[0m \u001b[0;31m# pip install pandas in command line\u001b[0m\u001b[0;34m\u001b[0m\u001b[0;34m\u001b[0m\u001b[0;34m\u001b[0m\u001b[0m\n\u001b[1;32m      4\u001b[0m \u001b[0;32mimport\u001b[0m \u001b[0mpandas\u001b[0m \u001b[0;32mas\u001b[0m \u001b[0mpd\u001b[0m\u001b[0;34m\u001b[0m\u001b[0;34m\u001b[0m\u001b[0m\n\u001b[1;32m      5\u001b[0m \u001b[0;34m\u001b[0m\u001b[0m\n",
      "\u001b[0;31mModuleNotFoundError\u001b[0m: No module named 'selenium'"
     ]
    }
   ],
   "source": [
    "from selenium import webdriver\n",
    "\n",
    "# pip install pandas in command line\n",
    "import pandas as pd\n",
    "\n",
    "# import packages to set wait time for page to load before running Selenium code\n",
    "from selenium.webdriver.support import expected_conditions as EC\n",
    "from selenium.webdriver.common.by import By\n",
    "from selenium.webdriver.support.ui import WebDriverWait\n",
    "import time \n",
    "from selenium.webdriver.common.keys import Keys\n",
    "from selenium.webdriver import ActionChains"
   ]
  },
  {
   "cell_type": "markdown",
   "metadata": {},
   "source": [
    "### Scraper"
   ]
  },
  {
   "cell_type": "code",
   "execution_count": 33,
   "metadata": {},
   "outputs": [
    {
     "name": "stdout",
     "output_type": "stream",
     "text": [
      "https://auburn.craigslist.org/ctd/d/loachapoka-2013-ford-150-lariat-4x4-4wd/6898314693.html\n",
      "2013 Ford F-150 Lariat 4x4 4WD Four Wheel Drive SKU:DFC53706\n",
      "2019-05-27 09:43\n",
      "https://images.craigslist.org/00H0H_bGnU19q3LfY_300x300.jpg\n",
      "('2013 Ford F-150 Lariat 4x4 4WD Four Wheel Drive SKU:DFC53706.png', <http.client.HTTPMessage object at 0x114a6ef60>)\n"
     ]
    }
   ],
   "source": [
    "# set webdriver to Chrome\n",
    "driver = webdriver.Chrome()\n",
    "\n",
    "# website start URL\n",
    "driver.get(\"https://www.craigslist.org/about/sites\")\n",
    "\n",
    "driver.find_element_by_xpath('/html/body/article/section/div[3]/div[1]/ul[1]/li[1]/a').click()\n",
    "\n",
    "driver.find_element_by_xpath('//*[@id=\"query\"]').send_keys(\"mirror\")\n",
    "driver.find_element_by_xpath('//*[@id=\"query\"]').send_keys(Keys.RETURN)\n",
    "\n",
    "element = WebDriverWait(driver, 10).until(\n",
    "    EC.presence_of_element_located((By.XPATH, '//*[@id=\"sortable-results\"]/ul/li[1]/p/a'))\n",
    "        )\n",
    "\n",
    "post = driver.find_element_by_xpath('//*[@id=\"sortable-results\"]/ul/li[1]/p/a')\n",
    "\n",
    "print(post.get_attribute('href'))\n",
    "print(post.text)\n",
    "\n",
    "\n",
    "time_stamp = driver.find_element_by_xpath('//*[@id=\"sortable-results\"]/ul/li[1]/p/time')\n",
    "print(time_stamp.get_attribute('datetime'))\n",
    "\n",
    "url = driver.find_element_by_xpath('//*[@id=\"sortable-results\"]/ul/li[1]/a/div[1]/div/div[1]/img')\n",
    "print(url.get_attribute('src'))\n",
    "\n",
    "import urllib\n",
    "import urllib.request\n",
    "\n",
    "\n",
    "# get the image source\n",
    "img = driver.find_element_by_xpath('//*[@id=\"sortable-results\"]/ul/li[1]/a/div[1]/div/div[1]/img')\n",
    "src = img.get_attribute('src')\n",
    "\n",
    "# download the image\n",
    "\n",
    "data = urllib.request.urlretrieve(src, str(post.text)+'.png')\n",
    "#urllib.urlretrieve(src, \"captcha.png\")\n",
    "\n",
    "print(data)\n",
    "\n",
    "driver.close()\n",
    "\n",
    "# time.sleep(10)"
   ]
  },
  {
   "cell_type": "code",
   "execution_count": 29,
   "metadata": {},
   "outputs": [
    {
     "data": {
      "text/plain": [
       "('2013 Ford F-150 Lariat 4x4 4WD Four Wheel Drive SKU:DFC53706.png',\n",
       " <http.client.HTTPMessage at 0x114a6e860>)"
      ]
     },
     "execution_count": 29,
     "metadata": {},
     "output_type": "execute_result"
    }
   ],
   "source": [
    "data\n",
    "\n",
    "\n"
   ]
  },
  {
   "cell_type": "code",
   "execution_count": null,
   "metadata": {},
   "outputs": [],
   "source": []
  }
 ],
 "metadata": {
  "kernelspec": {
   "display_name": "Python 3",
   "language": "python",
   "name": "python3"
  },
  "language_info": {
   "codemirror_mode": {
    "name": "ipython",
    "version": 3
   },
   "file_extension": ".py",
   "mimetype": "text/x-python",
   "name": "python",
   "nbconvert_exporter": "python",
   "pygments_lexer": "ipython3",
   "version": "3.7.4"
  }
 },
 "nbformat": 4,
 "nbformat_minor": 2
}
